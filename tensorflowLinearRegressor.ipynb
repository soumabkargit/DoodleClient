{
  "nbformat": 4,
  "nbformat_minor": 0,
  "metadata": {
    "colab": {
      "name": "tensorflowLinearRegressor.ipynb",
      "provenance": [],
      "authorship_tag": "ABX9TyO5byCPoV+VX4qFEgcGRsYd",
      "include_colab_link": true
    },
    "kernelspec": {
      "name": "python3",
      "display_name": "Python 3"
    }
  },
  "cells": [
    {
      "cell_type": "markdown",
      "metadata": {
        "id": "view-in-github",
        "colab_type": "text"
      },
      "source": [
        "<a href=\"https://colab.research.google.com/github/soumabkargit/DoodleClient/blob/master/tensorflowLinearRegressor.ipynb\" target=\"_parent\"><img src=\"https://colab.research.google.com/assets/colab-badge.svg\" alt=\"Open In Colab\"/></a>"
      ]
    },
    {
      "cell_type": "code",
      "metadata": {
        "id": "7NnjHwVSpdvc",
        "colab_type": "code",
        "colab": {
          "base_uri": "https://localhost:8080/",
          "height": 1000
        },
        "outputId": "4e596d2b-fb18-40e3-8d77-2169af3834f3"
      },
      "source": [
        "import numpy as np\n",
        "import shutil\n",
        "import tensorflow as tf\n",
        "\n",
        "shutil.rmtree(\"outdir\", ignore_errors = True) # start fresh each time\n",
        "\n",
        "def train_input_fn():\n",
        "  features = {\"sq_footage\": [1000, 2000, 3000, 1000, 2000, 3000],\n",
        "              \"type\": [\"house\", \"house\", \"house\", \"apt\", \"apt\", \"apt\"]}\n",
        "  labels = [500, 1000, 1500, 700, 1300, 1900]\n",
        "  return features, labels\n",
        "\n",
        "featcols = [\n",
        "            tf.feature_column.numeric_column(\"sq_footage\"),\n",
        "            tf.feature_column.categorical_column_with_vocabulary_list(\"type\", [\"house\", \"apt\"])\n",
        "]\n",
        "\n",
        "model = tf.estimator.LinearRegressor(featcols, \"outdir\")\n",
        "model.train(train_input_fn, steps=2000)\n",
        "\n",
        "def predict_input_fn():\n",
        "   features = {\"sq_footage\": [1500, 1500, 2000, 2000],\n",
        "              \"type\": [\"house\", \"apt\", \"house\", \"apt\"]}\n",
        "   return features\n",
        "\n",
        "predictions = model.predict(predict_input_fn)\n",
        "\n",
        "print(next(predictions))\n",
        "print(next(predictions))\n",
        "print(next(predictions))\n",
        "print(next(predictions))\n",
        "\n",
        " "
      ],
      "execution_count": 6,
      "outputs": [
        {
          "output_type": "stream",
          "text": [
            "INFO:tensorflow:Using default config.\n",
            "INFO:tensorflow:Using config: {'_model_dir': 'outdir', '_tf_random_seed': None, '_save_summary_steps': 100, '_save_checkpoints_steps': None, '_save_checkpoints_secs': 600, '_session_config': allow_soft_placement: true\n",
            "graph_options {\n",
            "  rewrite_options {\n",
            "    meta_optimizer_iterations: ONE\n",
            "  }\n",
            "}\n",
            ", '_keep_checkpoint_max': 5, '_keep_checkpoint_every_n_hours': 10000, '_log_step_count_steps': 100, '_train_distribute': None, '_device_fn': None, '_protocol': None, '_eval_distribute': None, '_experimental_distribute': None, '_experimental_max_worker_delay_secs': None, '_session_creation_timeout_secs': 7200, '_service': None, '_cluster_spec': <tensorflow.python.training.server_lib.ClusterSpec object at 0x7fc24fdb9c50>, '_task_type': 'worker', '_task_id': 0, '_global_id_in_cluster': 0, '_master': '', '_evaluation_master': '', '_is_chief': True, '_num_ps_replicas': 0, '_num_worker_replicas': 1}\n",
            "INFO:tensorflow:Calling model_fn.\n",
            "INFO:tensorflow:Done calling model_fn.\n",
            "INFO:tensorflow:Create CheckpointSaverHook.\n",
            "INFO:tensorflow:Graph was finalized.\n",
            "INFO:tensorflow:Running local_init_op.\n",
            "INFO:tensorflow:Done running local_init_op.\n",
            "INFO:tensorflow:Saving checkpoints for 0 into outdir/model.ckpt.\n",
            "INFO:tensorflow:loss = 9290000.0, step = 1\n",
            "INFO:tensorflow:global_step/sec: 904.34\n",
            "INFO:tensorflow:loss = 144242.62, step = 101 (0.115 sec)\n",
            "INFO:tensorflow:global_step/sec: 1321.18\n",
            "INFO:tensorflow:loss = 142023.2, step = 201 (0.072 sec)\n",
            "INFO:tensorflow:global_step/sec: 1390.74\n",
            "INFO:tensorflow:loss = 140171.67, step = 301 (0.073 sec)\n",
            "INFO:tensorflow:global_step/sec: 1318.47\n",
            "INFO:tensorflow:loss = 138553.88, step = 401 (0.075 sec)\n",
            "INFO:tensorflow:global_step/sec: 1362.09\n",
            "INFO:tensorflow:loss = 137101.47, step = 501 (0.074 sec)\n",
            "INFO:tensorflow:global_step/sec: 1287.18\n",
            "INFO:tensorflow:loss = 135774.66, step = 601 (0.080 sec)\n",
            "INFO:tensorflow:global_step/sec: 1320.66\n",
            "INFO:tensorflow:loss = 134547.11, step = 701 (0.075 sec)\n",
            "INFO:tensorflow:global_step/sec: 1254.28\n",
            "INFO:tensorflow:loss = 133400.81, step = 801 (0.079 sec)\n",
            "INFO:tensorflow:global_step/sec: 1330.04\n",
            "INFO:tensorflow:loss = 132322.64, step = 901 (0.076 sec)\n",
            "INFO:tensorflow:global_step/sec: 1256.68\n",
            "INFO:tensorflow:loss = 131302.42, step = 1001 (0.079 sec)\n",
            "INFO:tensorflow:global_step/sec: 1353.51\n",
            "INFO:tensorflow:loss = 130332.56, step = 1101 (0.075 sec)\n",
            "INFO:tensorflow:global_step/sec: 1319.44\n",
            "INFO:tensorflow:loss = 129406.89, step = 1201 (0.074 sec)\n",
            "INFO:tensorflow:global_step/sec: 1300.12\n",
            "INFO:tensorflow:loss = 128520.266, step = 1301 (0.077 sec)\n",
            "INFO:tensorflow:global_step/sec: 1332.38\n",
            "INFO:tensorflow:loss = 127668.74, step = 1401 (0.075 sec)\n",
            "INFO:tensorflow:global_step/sec: 1296.84\n",
            "INFO:tensorflow:loss = 126848.92, step = 1501 (0.081 sec)\n",
            "INFO:tensorflow:global_step/sec: 1273.95\n",
            "INFO:tensorflow:loss = 126057.62, step = 1601 (0.076 sec)\n",
            "INFO:tensorflow:global_step/sec: 1332.34\n",
            "INFO:tensorflow:loss = 125292.484, step = 1701 (0.075 sec)\n",
            "INFO:tensorflow:global_step/sec: 1301.35\n",
            "INFO:tensorflow:loss = 124551.48, step = 1801 (0.076 sec)\n",
            "INFO:tensorflow:global_step/sec: 1349.18\n",
            "INFO:tensorflow:loss = 123832.59, step = 1901 (0.074 sec)\n",
            "INFO:tensorflow:Saving checkpoints for 2000 into outdir/model.ckpt.\n",
            "INFO:tensorflow:Loss for final step: 123141.125.\n",
            "WARNING:tensorflow:Input graph does not use tf.data.Dataset or contain a QueueRunner. That means predict yields forever. This is probably a mistake.\n",
            "INFO:tensorflow:Calling model_fn.\n",
            "INFO:tensorflow:Done calling model_fn.\n",
            "INFO:tensorflow:Graph was finalized.\n",
            "INFO:tensorflow:Restoring parameters from outdir/model.ckpt-2000\n",
            "INFO:tensorflow:Running local_init_op.\n",
            "INFO:tensorflow:Done running local_init_op.\n",
            "{'predictions': array([844.07806], dtype=float32)}\n",
            "{'predictions': array([871.82715], dtype=float32)}\n",
            "{'predictions': array([1129.3085], dtype=float32)}\n",
            "{'predictions': array([1157.0575], dtype=float32)}\n"
          ],
          "name": "stdout"
        }
      ]
    }
  ]
}